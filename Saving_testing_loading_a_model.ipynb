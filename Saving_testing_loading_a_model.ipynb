{
 "cells": [
  {
   "cell_type": "code",
   "execution_count": 1,
   "id": "655deb0c-76b7-4347-8cda-65f0e36efe51",
   "metadata": {},
   "outputs": [],
   "source": [
    "import torch\n",
    "from torch import nn\n",
    "import matplotlib.pyplot as plt"
   ]
  },
  {
   "cell_type": "code",
   "execution_count": 2,
   "id": "45135384-8ac6-46f1-88ec-7682666c9910",
   "metadata": {},
   "outputs": [],
   "source": [
    "a = torch.rand(3,3)"
   ]
  },
  {
   "cell_type": "code",
   "execution_count": 3,
   "id": "a4572d7e-4405-4566-9f4e-5d48dd798163",
   "metadata": {},
   "outputs": [
    {
     "data": {
      "text/plain": [
       "tensor([[0.1486, 0.7713, 0.7365],\n",
       "        [0.1656, 0.8682, 0.9874],\n",
       "        [0.7407, 0.6741, 0.0785]])"
      ]
     },
     "execution_count": 3,
     "metadata": {},
     "output_type": "execute_result"
    }
   ],
   "source": [
    "a"
   ]
  },
  {
   "cell_type": "code",
   "execution_count": 4,
   "id": "c50bcba9-401b-4bc5-b8a2-1cb363c2d9e3",
   "metadata": {},
   "outputs": [],
   "source": [
    "a = torch.rand(3,3)\n",
    "mask = torch.zeros(3, 1)"
   ]
  },
  {
   "cell_type": "code",
   "execution_count": null,
   "id": "7bef59f6-353d-4ae3-80c1-cb95d6dcecda",
   "metadata": {},
   "outputs": [],
   "source": []
  },
  {
   "cell_type": "code",
   "execution_count": 5,
   "id": "b49e177f-9694-4e1f-8148-fbb1aec3053d",
   "metadata": {},
   "outputs": [
    {
     "data": {
      "text/plain": [
       "tensor([ 0., 10., 20., 30., 40., 50., 60., 70., 80., 90.])"
      ]
     },
     "execution_count": 5,
     "metadata": {},
     "output_type": "execute_result"
    }
   ],
   "source": [
    "x = torch.arange(0, 100, 10, dtype=torch.float32)\n",
    "x"
   ]
  },
  {
   "cell_type": "code",
   "execution_count": 6,
   "id": "764b339f-b0a2-41a5-9e8b-e0901a9dad14",
   "metadata": {},
   "outputs": [
    {
     "data": {
      "text/plain": [
       "tensor(90.)"
      ]
     },
     "execution_count": 6,
     "metadata": {},
     "output_type": "execute_result"
    }
   ],
   "source": [
    "mean = torch.max(x)\n",
    "mean"
   ]
  },
  {
   "cell_type": "code",
   "execution_count": 7,
   "id": "8621178c-9cd7-45d0-8609-ee5dddc0c2e8",
   "metadata": {},
   "outputs": [
    {
     "name": "stdout",
     "output_type": "stream",
     "text": [
      "tensor([9])\n"
     ]
    }
   ],
   "source": [
    "print((x == mean).nonzero(as_tuple=True)[0])"
   ]
  },
  {
   "cell_type": "code",
   "execution_count": 8,
   "id": "f4cda8a3-778d-4b67-8d73-c57061d0d1df",
   "metadata": {},
   "outputs": [
    {
     "data": {
      "text/plain": [
       "(tensor([0., 1., 2., 3., 4., 5., 6., 7., 8., 9.]), torch.Size([10]))"
      ]
     },
     "execution_count": 8,
     "metadata": {},
     "output_type": "execute_result"
    }
   ],
   "source": [
    "x = torch.arange(0., 10.)\n",
    "\n",
    "x, x.shape"
   ]
  },
  {
   "cell_type": "code",
   "execution_count": 9,
   "id": "747b7176-67b0-4d75-9dd4-11fe9ee07c1b",
   "metadata": {},
   "outputs": [
    {
     "data": {
      "text/plain": [
       "(tensor([[[0.]],\n",
       " \n",
       "         [[1.]],\n",
       " \n",
       "         [[2.]],\n",
       " \n",
       "         [[3.]],\n",
       " \n",
       "         [[4.]],\n",
       " \n",
       "         [[5.]],\n",
       " \n",
       "         [[6.]],\n",
       " \n",
       "         [[7.]],\n",
       " \n",
       "         [[8.]],\n",
       " \n",
       "         [[9.]]]),\n",
       " torch.Size([10, 1, 1]))"
      ]
     },
     "execution_count": 9,
     "metadata": {},
     "output_type": "execute_result"
    }
   ],
   "source": [
    "x_reshaped = x.reshape(10, 1, 1)\n",
    "x_reshaped, x_reshaped.shape"
   ]
  },
  {
   "cell_type": "code",
   "execution_count": 10,
   "id": "102d2b3d-fec9-4da0-9eaa-de1fe2e7fc06",
   "metadata": {},
   "outputs": [
    {
     "data": {
      "text/plain": [
       "tensor([0., 1., 2., 3., 4., 5., 6., 7., 8., 9.])"
      ]
     },
     "execution_count": 10,
     "metadata": {},
     "output_type": "execute_result"
    }
   ],
   "source": [
    "x"
   ]
  },
  {
   "cell_type": "code",
   "execution_count": 11,
   "id": "90e53702-002d-404c-ad6c-491cbae25386",
   "metadata": {},
   "outputs": [],
   "source": [
    "z = x.view(10,1)\n",
    "z[1, 0] = 10"
   ]
  },
  {
   "cell_type": "code",
   "execution_count": 12,
   "id": "9fe6be91-58ae-457e-a549-c8c9a56c653c",
   "metadata": {},
   "outputs": [
    {
     "data": {
      "text/plain": [
       "tensor([ 0., 10.,  2.,  3.,  4.,  5.,  6.,  7.,  8.,  9.])"
      ]
     },
     "execution_count": 12,
     "metadata": {},
     "output_type": "execute_result"
    }
   ],
   "source": [
    "x"
   ]
  },
  {
   "cell_type": "code",
   "execution_count": 13,
   "id": "6730ebef-1278-4d33-afb7-ff737fd3be43",
   "metadata": {},
   "outputs": [],
   "source": [
    "x = torch.arange(0., 10.)\n",
    "y = torch.arange(10., 20.)"
   ]
  },
  {
   "cell_type": "code",
   "execution_count": 14,
   "id": "f6435f96-855f-4dbd-98ec-faf46c8f526c",
   "metadata": {},
   "outputs": [
    {
     "data": {
      "text/plain": [
       "tensor([[0., 1., 2., 3., 4., 5., 6., 7., 8., 9.]])"
      ]
     },
     "execution_count": 14,
     "metadata": {},
     "output_type": "execute_result"
    }
   ],
   "source": [
    "x = torch.unsqueeze(x, 0)\n",
    "x"
   ]
  },
  {
   "cell_type": "code",
   "execution_count": 15,
   "id": "4e9ba8d8-f8c0-4938-be60-4877e3ec1743",
   "metadata": {},
   "outputs": [
    {
     "data": {
      "text/plain": [
       "tensor([0., 1., 2., 3., 4., 5., 6., 7., 8., 9.])"
      ]
     },
     "execution_count": 15,
     "metadata": {},
     "output_type": "execute_result"
    }
   ],
   "source": [
    "x_squeezed = torch.squeeze(x)\n",
    "x_squeezed"
   ]
  },
  {
   "cell_type": "code",
   "execution_count": 16,
   "id": "d57c4350-f070-4b9e-8284-0570c1cc34e9",
   "metadata": {},
   "outputs": [
    {
     "data": {
      "text/plain": [
       "tensor([ 0,  1,  2,  3,  4,  5,  6,  7,  8,  9, 10, 11, 12, 13, 14, 15, 16, 17,\n",
       "        18, 19, 20, 21, 22, 23, 24, 25, 26])"
      ]
     },
     "execution_count": 16,
     "metadata": {},
     "output_type": "execute_result"
    }
   ],
   "source": [
    "x = torch.arange(0, 3*3*3)\n",
    "x"
   ]
  },
  {
   "cell_type": "code",
   "execution_count": 17,
   "id": "99d78a26-9f36-47bf-b1e6-8235b83c5994",
   "metadata": {},
   "outputs": [],
   "source": [
    "x = x.reshape(3,3,3)"
   ]
  },
  {
   "cell_type": "code",
   "execution_count": 18,
   "id": "036028e4-140f-41b8-b033-1f97ff065a67",
   "metadata": {},
   "outputs": [
    {
     "data": {
      "text/plain": [
       "tensor([[[ 0,  1,  2],\n",
       "         [ 3,  4,  5],\n",
       "         [ 6,  7,  8]],\n",
       "\n",
       "        [[ 9, 10, 11],\n",
       "         [12, 13, 14],\n",
       "         [15, 16, 17]],\n",
       "\n",
       "        [[18, 19, 20],\n",
       "         [21, 22, 23],\n",
       "         [24, 25, 26]]])"
      ]
     },
     "execution_count": 18,
     "metadata": {},
     "output_type": "execute_result"
    }
   ],
   "source": [
    "x"
   ]
  },
  {
   "cell_type": "code",
   "execution_count": 19,
   "id": "d5952e2b-1df5-48b3-a317-8f0cb9ec893c",
   "metadata": {},
   "outputs": [
    {
     "data": {
      "text/plain": [
       "tensor([[[ 0,  9, 18],\n",
       "         [ 3, 12, 21],\n",
       "         [ 6, 15, 24]],\n",
       "\n",
       "        [[ 1, 10, 19],\n",
       "         [ 4, 13, 22],\n",
       "         [ 7, 16, 25]],\n",
       "\n",
       "        [[ 2, 11, 20],\n",
       "         [ 5, 14, 23],\n",
       "         [ 8, 17, 26]]])"
      ]
     },
     "execution_count": 19,
     "metadata": {},
     "output_type": "execute_result"
    }
   ],
   "source": [
    "x = x.permute(2,1,0)\n",
    "x"
   ]
  },
  {
   "cell_type": "code",
   "execution_count": 20,
   "id": "53bc6573-6b26-4d8a-b671-579eba995cee",
   "metadata": {},
   "outputs": [
    {
     "data": {
      "text/plain": [
       "'2.2.1'"
      ]
     },
     "execution_count": 20,
     "metadata": {},
     "output_type": "execute_result"
    }
   ],
   "source": [
    "torch.__version__"
   ]
  },
  {
   "cell_type": "code",
   "execution_count": 21,
   "id": "d5d396cd-e5bb-480c-b7db-a5ab6e9ad274",
   "metadata": {},
   "outputs": [],
   "source": [
    "weights = 0.7\n",
    "biases = 0.3\n",
    "\n",
    "X = torch.arange(0, 2, 0.02).unsqueeze(dim=1)\n",
    "y = weights * X + biases\n"
   ]
  },
  {
   "cell_type": "code",
   "execution_count": 22,
   "id": "22a927e4-6da8-406e-8cdc-940626350c2d",
   "metadata": {},
   "outputs": [
    {
     "data": {
      "text/plain": [
       "80"
      ]
     },
     "execution_count": 22,
     "metadata": {},
     "output_type": "execute_result"
    }
   ],
   "source": [
    "train_split = int(0.8 * len(X))\n",
    "train_split"
   ]
  },
  {
   "cell_type": "code",
   "execution_count": 23,
   "id": "8602b5dc-2094-4dee-9ffb-aba4c815d271",
   "metadata": {},
   "outputs": [],
   "source": [
    "X_train, y_train = X[:train_split], y[:train_split]\n",
    "X_test, y_test = X[train_split:], y[train_split:]"
   ]
  },
  {
   "cell_type": "code",
   "execution_count": 24,
   "id": "97036c3e-6905-4dfb-a21c-fd3b8f77e5f6",
   "metadata": {},
   "outputs": [],
   "source": [
    "def plot_predictions(train_data=X_train,\n",
    "                     train_labels=y_train,\n",
    "                     test_data=X_test,\n",
    "                     test_labels=y_test,\n",
    "                     predictions=None):\n",
    "\n",
    "    plt.figure(figsize=(10, 7))\n",
    "    plt.scatter(train_data, train_labels, c=\"b\", s=4, label=\"Training data\")\n",
    "    plt.scatter(test_data, test_labels, c=\"g\", s=4, label=\"Testing data\")\n",
    "\n",
    "    if predictions is not None:\n",
    "        plt.scatter(test_data, predictions, c=\"r\", label=\"Predictions\", s=4)"
   ]
  },
  {
   "cell_type": "code",
   "execution_count": 25,
   "id": "d2a38a33-311f-476d-b53d-c9bc19921fe4",
   "metadata": {},
   "outputs": [
    {
     "data": {
      "image/png": "[encoded data removed]",
      "text/plain": [
       "<Figure size 1000x700 with 1 Axes>"
      ]
     },
     "metadata": {},
     "output_type": "display_data"
    }
   ],
   "source": [
    "plot_predictions()"
   ]
  },
  {
   "cell_type": "code",
   "execution_count": 26,
   "id": "a746c727-61b5-4324-9a70-e4c6fbef5761",
   "metadata": {},
   "outputs": [],
   "source": [
    "class LinearRegressionModel(nn.Module):\n",
    "    def __init__(self):\n",
    "        super().__init__()\n",
    "        self.weights = nn.Parameter(torch.rand(1), requires_grad=True)\n",
    "        self.bias = nn.Parameter(torch.rand(1), requires_grad=True)\n",
    "\n",
    "    def forward(self, x: torch.Tensor) -> torch.Tensor:\n",
    "        return self.weights * x + self.bias\n"
   ]
  },
  {
   "cell_type": "code",
   "execution_count": 27,
   "id": "915aecef-a841-4448-bca4-7e2c4009b17e",
   "metadata": {},
   "outputs": [],
   "source": [
    "lrm = LinearRegressionModel()\n"
   ]
  },
  {
   "cell_type": "code",
   "execution_count": 28,
   "id": "0310268d-4206-443a-90c8-2856e4a4ddf6",
   "metadata": {},
   "outputs": [
    {
     "name": "stdout",
     "output_type": "stream",
     "text": [
      "torch.Size([20, 1])\n",
      "torch.Size([20, 1])\n"
     ]
    },
    {
     "data": {
      "image/png": "[encoded data removed]",
      "text/plain": [
       "<Figure size 1000x700 with 1 Axes>"
      ]
     },
     "metadata": {},
     "output_type": "display_data"
    }
   ],
   "source": [
    "\n",
    "print(X_test.shape)\n",
    "with torch.inference_mode():\n",
    "    y_pred = lrm(X_test)\n",
    "print(y_pred.shape)\n",
    "\n",
    "plot_predictions(predictions=y_pred)\n",
    "\n"
   ]
  },
  {
   "cell_type": "code",
   "execution_count": 29,
   "id": "98795345-4595-40da-a634-7aaf444090ba",
   "metadata": {},
   "outputs": [],
   "source": [
    "MAE_loss = torch.mean(torch.abs(y_pred - y_test))\n",
    "MAE_loss\n",
    "\n",
    "loss_fn = torch.nn.L1Loss()"
   ]
  },
  {
   "cell_type": "code",
   "execution_count": 30,
   "id": "90046f07-0f5b-41ad-84fa-46434943bead",
   "metadata": {},
   "outputs": [],
   "source": [
    "optimizer = torch.optim.SGD(params=lrm.parameters(),\n",
    "                            lr=0.001)"
   ]
  },
  {
   "cell_type": "code",
   "execution_count": 31,
   "id": "39671452-3c6c-4ce7-a527-1004bbf3663e",
   "metadata": {},
   "outputs": [
    {
     "data": {
      "image/png": "[encoded data removed]",
      "text/plain": [
       "<Figure size 640x480 with 1 Axes>"
      ]
     },
     "metadata": {},
     "output_type": "display_data"
    }
   ],
   "source": [
    "epochs = 1000\n",
    "\n",
    "epoch_count = []\n",
    "loss_values = []\n",
    "\n",
    "for epoch in range(epochs):\n",
    "    epoch_count.append(epoch)\n",
    "    lrm.train()\n",
    "    #1\n",
    "    y_pred = lrm(X_train)\n",
    "    #2\n",
    "    loss = loss_fn(y_pred, y_train)\n",
    "    loss_values.append(loss)\n",
    "    #3\n",
    "    optimizer.zero_grad()\n",
    "    #4\n",
    "    loss.backward()\n",
    "    #5\n",
    "    optimizer.step()\n",
    "    lrm.eval()\n",
    "with torch.no_grad():\n",
    "    plt.plot(epoch_count, loss_values, label=\"Train loss\")"
   ]
  },
  {
   "cell_type": "code",
   "execution_count": 32,
   "id": "357a5bce-e850-4802-b291-04cb3f1b69ec",
   "metadata": {},
   "outputs": [
    {
     "data": {
      "text/plain": [
       "Parameter containing:\n",
       "tensor([0.6998], requires_grad=True)"
      ]
     },
     "execution_count": 32,
     "metadata": {},
     "output_type": "execute_result"
    }
   ],
   "source": [
    "lrm.weights"
   ]
  },
  {
   "cell_type": "code",
   "execution_count": 33,
   "id": "345d9a57-6411-4145-840a-4dcf78079ee7",
   "metadata": {},
   "outputs": [
    {
     "data": {
      "text/plain": [
       "Parameter containing:\n",
       "tensor([0.3004], requires_grad=True)"
      ]
     },
     "execution_count": 33,
     "metadata": {},
     "output_type": "execute_result"
    }
   ],
   "source": [
    "lrm.bias"
   ]
  },
  {
   "cell_type": "code",
   "execution_count": 34,
   "id": "8fab0c22-cc99-4415-ab07-699e3e622247",
   "metadata": {},
   "outputs": [],
   "source": [
    "with torch.inference_mode():\n",
    "    y_pred = lrm(X_test)"
   ]
  },
  {
   "cell_type": "code",
   "execution_count": 35,
   "id": "ac6a730a-57b2-4187-9d0a-f9523233fd1d",
   "metadata": {},
   "outputs": [
    {
     "data": {
      "image/png": "[encoded data removed]",
      "text/plain": [
       "<Figure size 1000x700 with 1 Axes>"
      ]
     },
     "metadata": {},
     "output_type": "display_data"
    }
   ],
   "source": [
    "plot_predictions(predictions=y_pred)\n"
   ]
  },
  {
   "cell_type": "code",
   "execution_count": 36,
   "id": "35db7a1c-3faa-44b1-b7bb-d06d37f4a499",
   "metadata": {},
   "outputs": [],
   "source": [
    "torch.save(lrm.state_dict(), \"./torch/model.pth\")"
   ]
  },
  {
   "cell_type": "code",
   "execution_count": 37,
   "id": "34f80170-b4a0-48e5-a781-125c6395ac1d",
   "metadata": {},
   "outputs": [
    {
     "ename": "FileExistsError",
     "evalue": "[Errno 17] File exists: 'torch'",
     "output_type": "error",
     "traceback": [
      "\u001b[0;31m---------------------------------------------------------------------------\u001b[0m",
      "\u001b[0;31mFileExistsError\u001b[0m                           Traceback (most recent call last)",
      "Cell \u001b[0;32mIn[37], line 2\u001b[0m\n\u001b[1;32m      1\u001b[0m \u001b[38;5;28;01mimport\u001b[39;00m \u001b[38;5;21;01mos\u001b[39;00m\n\u001b[0;32m----> 2\u001b[0m \u001b[43mos\u001b[49m\u001b[38;5;241;43m.\u001b[39;49m\u001b[43mmkdir\u001b[49m\u001b[43m(\u001b[49m\u001b[38;5;124;43m\"\u001b[39;49m\u001b[38;5;124;43mtorch\u001b[39;49m\u001b[38;5;124;43m\"\u001b[39;49m\u001b[43m)\u001b[49m\n",
      "\u001b[0;31mFileExistsError\u001b[0m: [Errno 17] File exists: 'torch'"
     ]
    }
   ],
   "source": [
    "import os\n",
    "os.mkdir(\"torch\")"
   ]
  },
  {
   "cell_type": "code",
   "execution_count": 39,
   "id": "e92fe9e5-21b8-45be-88cc-6f57c365222e",
   "metadata": {},
   "outputs": [],
   "source": [
    "model = torch.load(\"./torch/model.pth\")\n",
    "lrm = LinearRegressionModel()"
   ]
  },
  {
   "cell_type": "code",
   "execution_count": 40,
   "id": "d77ab341-f29c-46bd-a160-520ac2942d5d",
   "metadata": {},
   "outputs": [],
   "source": [
    "model = lrm.load_state_dict(torch.load(\"./torch/model.pth\"))"
   ]
  },
  {
   "cell_type": "code",
   "execution_count": 41,
   "id": "73155403-272a-4084-ba4f-2b8d27e199b9",
   "metadata": {},
   "outputs": [
    {
     "data": {
      "text/plain": [
       "<All keys matched successfully>"
      ]
     },
     "execution_count": 41,
     "metadata": {},
     "output_type": "execute_result"
    }
   ],
   "source": [
    "model\n"
   ]
  },
  {
   "cell_type": "code",
   "execution_count": 42,
   "id": "729d005b-7d87-41da-bbc1-bab9cb32b18c",
   "metadata": {},
   "outputs": [],
   "source": [
    "import torch\n",
    "from torch import nn\n",
    "import matplotlib.pyplot as plt"
   ]
  },
  {
   "cell_type": "code",
   "execution_count": 43,
   "id": "9e0e2b52-5441-4700-8873-faa15dd1901b",
   "metadata": {},
   "outputs": [],
   "source": [
    "true_weight = 0.6942\n",
    "true_bias = 2\n",
    "\n",
    "X = torch.arange(0, 100, 0.01)\n",
    "Y = true_weight * X + true_bias\n",
    "\n",
    "\n",
    "class LinearRegressionModel(nn.Module):\n",
    "    def __init__(self):\n",
    "        super().__init__()\n",
    "        self.weights = nn.Parameter(torch.rand(1), requires_grad=True)\n",
    "        self.bias = nn.Parameter(torch.rand(1), requires_grad=True)\n",
    "\n",
    "    def forward(self, x: torch.Tensor) -> torch.Tensor:\n",
    "        return self.weights * x + self.bias\n",
    "        "
   ]
  },
  {
   "cell_type": "code",
   "execution_count": 44,
   "id": "b0d636b7-6dc0-4a5f-beb2-e8241d22be35",
   "metadata": {},
   "outputs": [
    {
     "name": "stdout",
     "output_type": "stream",
     "text": [
      "torch.Size([8000])\n",
      "torch.Size([2000])\n"
     ]
    }
   ],
   "source": [
    "split_pivot = int(0.8 * len(X))\n",
    "X_train, y_train = X[:split_pivot], Y[:split_pivot]\n",
    "X_test, y_test = X[split_pivot:], Y[split_pivot:]\n",
    "print(X_train.shape)\n",
    "print(X_test.shape)"
   ]
  },
  {
   "cell_type": "code",
   "execution_count": 45,
   "id": "ec7c4083-5103-4839-b3fc-80a56fe6162a",
   "metadata": {},
   "outputs": [
    {
     "data": {
      "image/png": "[encoded data removed]",
      "text/plain": [
       "<Figure size 1000x700 with 1 Axes>"
      ]
     },
     "metadata": {},
     "output_type": "display_data"
    }
   ],
   "source": [
    "def plot_predictions(train_data=X_train,\n",
    "                     train_labels=y_train,\n",
    "                     test_data=X_test,\n",
    "                     test_labels=y_test,\n",
    "                     predictions=None):\n",
    "\n",
    "    plt.figure(figsize=(10, 7))\n",
    "    plt.scatter(train_data, train_labels, c=\"b\", s=4, label=\"Training data\")\n",
    "    plt.scatter(test_data, test_labels, c=\"g\", s=4, label=\"Testing data\")\n",
    "\n",
    "    if predictions is not None:\n",
    "        plt.scatter(test_data, predictions, c=\"r\", label=\"Predictions\", s=4)\n",
    "        \n",
    "plot_predictions()"
   ]
  },
  {
   "cell_type": "code",
   "execution_count": 46,
   "id": "a26f8775-6c0a-4a98-8606-1147ae15a0ce",
   "metadata": {},
   "outputs": [],
   "source": [
    "model = LinearRegressionModel()\n",
    "loss_fn = torch.nn.L1Loss()\n",
    "optimizer = torch.optim.SGD(model.parameters(), lr=0.0001)"
   ]
  },
  {
   "cell_type": "code",
   "execution_count": 47,
   "id": "9a5b1981-e10f-4602-9054-d177e2179bff",
   "metadata": {},
   "outputs": [
    {
     "name": "stdout",
     "output_type": "stream",
     "text": [
      "tensor(3.7868, grad_fn=<MeanBackward0>)\n",
      "tensor(3.6418, grad_fn=<MeanBackward0>)\n",
      "tensor(3.4977, grad_fn=<MeanBackward0>)\n",
      "tensor(3.3546, grad_fn=<MeanBackward0>)\n",
      "tensor(3.2126, grad_fn=<MeanBackward0>)\n",
      "tensor(3.0717, grad_fn=<MeanBackward0>)\n",
      "tensor(2.9322, grad_fn=<MeanBackward0>)\n",
      "tensor(2.7942, grad_fn=<MeanBackward0>)\n",
      "tensor(2.6577, grad_fn=<MeanBackward0>)\n",
      "tensor(2.5230, grad_fn=<MeanBackward0>)\n"
     ]
    }
   ],
   "source": [
    "epochs = 10\n",
    "optimizer = torch.optim.SGD(model.parameters(), lr=0.0001)\n",
    "for epoch in range(epochs):\n",
    "\n",
    "    model.train()\n",
    "    \n",
    "    optimizer.zero_grad()\n",
    "    \n",
    "    outputs = model(X_train)\n",
    "\n",
    "    loss = loss_fn(outputs, y_train)\n",
    "    print(loss)\n",
    "    loss.backward()\n",
    "\n",
    "    optimizer.step()\n"
   ]
  },
  {
   "cell_type": "code",
   "execution_count": 48,
   "id": "d45da44f-bc4d-4578-b511-316c64a5bf27",
   "metadata": {},
   "outputs": [
    {
     "name": "stdout",
     "output_type": "stream",
     "text": [
      "Parameter containing:\n",
      "tensor([0.7848], requires_grad=True)\n"
     ]
    }
   ],
   "source": [
    "print(model.weights)"
   ]
  },
  {
   "cell_type": "code",
   "execution_count": 49,
   "id": "7b8464c2-b8d2-403b-a001-41bef463a11f",
   "metadata": {},
   "outputs": [
    {
     "name": "stdout",
     "output_type": "stream",
     "text": [
      "Parameter containing:\n",
      "tensor([0.4259], requires_grad=True)\n"
     ]
    }
   ],
   "source": [
    "print(model.bias)"
   ]
  },
  {
   "cell_type": "code",
   "execution_count": 50,
   "id": "45cd3c3c-b5a4-452e-9276-a94add738330",
   "metadata": {},
   "outputs": [
    {
     "name": "stdout",
     "output_type": "stream",
     "text": [
      "torch.Size([2000])\n"
     ]
    },
    {
     "data": {
      "image/png": "[encoded data removed]",
      "text/plain": [
       "<Figure size 1000x700 with 1 Axes>"
      ]
     },
     "metadata": {},
     "output_type": "display_data"
    }
   ],
   "source": [
    "model.eval()\n",
    "with torch.inference_mode():\n",
    "    y_pred = model(X_test)\n",
    "print(y_pred.shape)\n",
    "plot_predictions(predictions=y_pred)"
   ]
  },
  {
   "cell_type": "code",
   "execution_count": 51,
   "id": "fc4566a3-76d4-4050-aecb-20a6a3bc7c8c",
   "metadata": {},
   "outputs": [],
   "source": [
    "torch.save(model.state_dict(), \"torch/model2.pth\")"
   ]
  },
  {
   "cell_type": "code",
   "execution_count": 52,
   "id": "965162c0-b8ee-487d-b0cf-810efbe2169c",
   "metadata": {},
   "outputs": [],
   "source": [
    "loaded_model = torch.load(\"torch/model2.pth\")"
   ]
  },
  {
   "cell_type": "code",
   "execution_count": 53,
   "id": "ae2e1652-8fc0-4bf8-9199-baffc658acbc",
   "metadata": {},
   "outputs": [
    {
     "data": {
      "text/plain": [
       "OrderedDict([('weights', tensor([0.7848])), ('bias', tensor([0.4259]))])"
      ]
     },
     "execution_count": 53,
     "metadata": {},
     "output_type": "execute_result"
    }
   ],
   "source": [
    "loaded_model"
   ]
  },
  {
   "cell_type": "code",
   "execution_count": 54,
   "id": "762d16fc-4af8-4406-b666-070c3dc31e7a",
   "metadata": {},
   "outputs": [
    {
     "data": {
      "text/plain": [
       "<All keys matched successfully>"
      ]
     },
     "execution_count": 54,
     "metadata": {},
     "output_type": "execute_result"
    }
   ],
   "source": [
    "new_model = LinearRegressionModel()\n",
    "new_model.load_state_dict(loaded_model)"
   ]
  },
  {
   "cell_type": "code",
   "execution_count": 55,
   "id": "6782134b-b767-4a7c-97ab-1cdad91da39c",
   "metadata": {},
   "outputs": [
    {
     "data": {
      "text/plain": [
       "tensor([True, True, True,  ..., True, True, True])"
      ]
     },
     "execution_count": 55,
     "metadata": {},
     "output_type": "execute_result"
    }
   ],
   "source": [
    "new_model.eval()\n",
    "with torch.inference_mode():\n",
    "    new_model_preds = new_model(X_test)\n",
    "\n",
    "y_pred == new_model_preds"
   ]
  },
  {
   "cell_type": "code",
   "execution_count": 56,
   "id": "3d9a414f-b655-4e0d-bc79-8fcfd896f33f",
   "metadata": {},
   "outputs": [],
   "source": [
    "anagram = sorted([\"g\", \"f\", \"k\"])"
   ]
  },
  {
   "cell_type": "code",
   "execution_count": 57,
   "id": "91026abc-e95a-4b9d-85de-115bebd4c18a",
   "metadata": {},
   "outputs": [
    {
     "data": {
      "text/plain": [
       "['f', 'g', 'k']"
      ]
     },
     "execution_count": 57,
     "metadata": {},
     "output_type": "execute_result"
    }
   ],
   "source": [
    "anagram\n"
   ]
  },
  {
   "cell_type": "code",
   "execution_count": null,
   "id": "08c3f00f-1762-4cdc-bd70-2d3af6fe7742",
   "metadata": {},
   "outputs": [],
   "source": []
  },
  {
   "cell_type": "code",
   "execution_count": null,
   "id": "326ac15e-4ad1-4b61-9f99-4ff93f027916",
   "metadata": {},
   "outputs": [],
   "source": []
  }
 ],
 "metadata": {
  "kernelspec": {
   "display_name": "Python 3 (ipykernel)",
   "language": "python",
   "name": "python3"
  },
  "language_info": {
   "codemirror_mode": {
    "name": "ipython",
    "version": 3
   },
   "file_extension": ".py",
   "mimetype": "text/x-python",
   "name": "python",
   "nbconvert_exporter": "python",
   "pygments_lexer": "ipython3",
   "version": "3.10.9"
  }
 },
 "nbformat": 4,
 "nbformat_minor": 5
}
